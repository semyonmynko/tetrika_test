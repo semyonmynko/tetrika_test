{
 "cells": [
  {
   "cell_type": "markdown",
   "metadata": {},
   "source": [
    "# Задание 1"
   ]
  },
  {
   "cell_type": "code",
   "execution_count": 1,
   "metadata": {},
   "outputs": [],
   "source": [
    "def task(array: str) -> int:\n",
    "    return array.index('0')"
   ]
  },
  {
   "cell_type": "code",
   "execution_count": 2,
   "metadata": {},
   "outputs": [
    {
     "name": "stdout",
     "output_type": "stream",
     "text": [
      "11\n"
     ]
    }
   ],
   "source": [
    "print(task(\"111111111110000000000000000\"))"
   ]
  },
  {
   "cell_type": "markdown",
   "metadata": {},
   "source": [
    "# Задание 2"
   ]
  },
  {
   "cell_type": "code",
   "execution_count": 11,
   "metadata": {},
   "outputs": [],
   "source": [
    "from wikipediaapi import Wikipedia\n",
    "import re"
   ]
  },
  {
   "cell_type": "code",
   "execution_count": 12,
   "metadata": {},
   "outputs": [],
   "source": [
    "ru_wiki = Wikipedia('ru')\n",
    "members = ru_wiki.page('Категория:Животные по алфавиту').categorymembers  \n",
    "members_list = list(members.keys())\n",
    "ru_members_list = [name for name in members_list if not re.match(r'[A-Z]+', name, re.I) and name[-1:] != ')' and name[-2:] != 'ые']"
   ]
  },
  {
   "cell_type": "code",
   "execution_count": 13,
   "metadata": {},
   "outputs": [],
   "source": [
    "alphabet = {\n",
    "        \"А\": 0,\n",
    "        \"Б\": 0,\n",
    "        \"В\": 0,\n",
    "        \"Г\": 0,\n",
    "        \"Д\": 0,\n",
    "        \"Е\": 0,\n",
    "        \"Ё\": 0,\n",
    "        \"Ж\": 0,\n",
    "        \"З\": 0,\n",
    "        \"И\": 0,\n",
    "        \"Й\": 0,\n",
    "        \"К\": 0,\n",
    "        \"Л\": 0,\n",
    "        \"М\": 0,\n",
    "        \"Н\": 0,\n",
    "        \"О\": 0,\n",
    "        \"П\": 0,\n",
    "        \"Р\": 0,\n",
    "        \"С\": 0,\n",
    "        \"Т\": 0,\n",
    "        \"У\": 0,\n",
    "        \"Ф\": 0,\n",
    "        \"Х\": 0,\n",
    "        \"Ц\": 0,\n",
    "        \"Ч\": 0,\n",
    "        \"Ш\": 0,\n",
    "        \"Щ\": 0,\n",
    "        \"Э\": 0,\n",
    "        \"Ю\": 0,\n",
    "        \"Я\": 0\n",
    "    }\n",
    "for name in ru_members_list:\n",
    "    alphabet[name[:1].upper()] += 1"
   ]
  },
  {
   "cell_type": "code",
   "execution_count": 14,
   "metadata": {},
   "outputs": [
    {
     "name": "stdout",
     "output_type": "stream",
     "text": [
      "А: 1069\n",
      "Б: 1516\n",
      "В: 470\n",
      "Г: 916\n",
      "Д: 675\n",
      "Е: 91\n",
      "Ё: 2\n",
      "Ж: 368\n",
      "З: 584\n",
      "И: 319\n",
      "Й: 3\n",
      "К: 2035\n",
      "Л: 630\n",
      "М: 1158\n",
      "Н: 411\n",
      "О: 727\n",
      "П: 1589\n",
      "Р: 521\n",
      "С: 1594\n",
      "Т: 883\n",
      "У: 219\n",
      "Ф: 175\n",
      "Х: 240\n",
      "Ц: 189\n",
      "Ч: 639\n",
      "Ш: 250\n",
      "Щ: 132\n",
      "Э: 199\n",
      "Ю: 132\n",
      "Я: 197\n"
     ]
    }
   ],
   "source": [
    "for key, value in alphabet.items():\n",
    "    print(f'{key}: {value}')"
   ]
  },
  {
   "cell_type": "markdown",
   "metadata": {},
   "source": [
    "# Задание 3"
   ]
  },
  {
   "cell_type": "code",
   "execution_count": 15,
   "metadata": {},
   "outputs": [],
   "source": [
    "def appearance(intervals):\n",
    "    pupil = intervals['pupil']\n",
    "    lesson = intervals['lesson']\n",
    "    tutor = intervals['tutor']\n",
    "\n",
    "    A = { b for i in range(1,len(pupil),2) \n",
    "        for b in range(pupil[i-1], pupil[i])  \n",
    "            if b>= lesson[0] and b < lesson[1]}\n",
    "\n",
    "    B = { b for i in range(1,len(tutor),2) \n",
    "        for b in range(tutor[i-1],tutor[i]) \n",
    "            if b>= lesson[0] and b < lesson[1]}\n",
    "\n",
    "    return len(A.intersection(B))"
   ]
  },
  {
   "cell_type": "code",
   "execution_count": 16,
   "metadata": {},
   "outputs": [],
   "source": [
    "tests = [\n",
    "   {'data': {'lesson': [1594663200, 1594666800],\n",
    "             'pupil': [1594663340, 1594663389, 1594663390, 1594663395, 1594663396, 1594666472],\n",
    "             'tutor': [1594663290, 1594663430, 1594663443, 1594666473]},\n",
    "    'answer': 3117\n",
    "    },\n",
    "   {'data': {'lesson': [1594702800, 1594706400],\n",
    "             'pupil': [1594702789, 1594704500, 1594702807, 1594704542, 1594704512, 1594704513, 1594704564, 1594705150, 1594704581, 1594704582, 1594704734, 1594705009, 1594705095, 1594705096, 1594705106, 1594706480, 1594705158, 1594705773, 1594705849, 1594706480, 1594706500, 1594706875, 1594706502, 1594706503, 1594706524, 1594706524, 1594706579, 1594706641],\n",
    "             'tutor': [1594700035, 1594700364, 1594702749, 1594705148, 1594705149, 1594706463]},\n",
    "    'answer': 3577\n",
    "    },\n",
    "   {'data': {'lesson': [1594692000, 1594695600],\n",
    "             'pupil': [1594692033, 1594696347],\n",
    "             'tutor': [1594692017, 1594692066, 1594692068, 1594696341]},\n",
    "    'answer': 3565\n",
    "    },\n",
    "]"
   ]
  },
  {
   "cell_type": "code",
   "execution_count": 18,
   "metadata": {},
   "outputs": [
    {
     "name": "stdout",
     "output_type": "stream",
     "text": [
      "Correct!\n"
     ]
    }
   ],
   "source": [
    "for i, test in enumerate(tests):\n",
    "    test_answer = appearance(test['data'])\n",
    "    assert test_answer == test['answer'], f'Error on test case {i}, got {test_answer}, expected {test[\"answer\"]}'\n",
    "print('Correct!')"
   ]
  }
 ],
 "metadata": {
  "kernelspec": {
   "display_name": "Python 3.10.5 64-bit",
   "language": "python",
   "name": "python3"
  },
  "language_info": {
   "codemirror_mode": {
    "name": "ipython",
    "version": 3
   },
   "file_extension": ".py",
   "mimetype": "text/x-python",
   "name": "python",
   "nbconvert_exporter": "python",
   "pygments_lexer": "ipython3",
   "version": "3.10.5"
  },
  "orig_nbformat": 4,
  "vscode": {
   "interpreter": {
    "hash": "369f2c481f4da34e4445cda3fffd2e751bd1c4d706f27375911949ba6bb62e1c"
   }
  }
 },
 "nbformat": 4,
 "nbformat_minor": 2
}
